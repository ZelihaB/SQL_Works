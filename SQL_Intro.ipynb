{
    "metadata": {
        "kernelspec": {
            "name": "SQL",
            "display_name": "SQL",
            "language": "sql"
        },
        "language_info": {
            "name": "sql",
            "version": ""
        }
    },
    "nbformat_minor": 2,
    "nbformat": 4,
    "cells": [
        {
            "cell_type": "code",
            "source": [
                "SELECT * FROM Categories\n",
                "SELECT TOP 10 * FROM Categories\n",
                "SELECT CategoryID AS ID, CategoryName FROM Categories\n",
                "SELECT * FROM Suppliers\n",
                "SELECT DISTINCT Country From Customers /*remove duplicates*/\n",
                "SELECT * FROM Customers WHERE Country='Mexico' OR City='Madrid'\n",
                "SELECT * FROM Customers ORDER BY Country DESC\n",
                "SELECT * FROM Customers WHERE Country='USA' ORDER BY City\n",
                "SELECT TOP 10 * FROM Customers /*LIMIT 3 OR HEAD(3) FOR OTHER SQLs*/\n",
                "SELECT TOP 3 * FROM Orders ORDER BY Freight DESC\n",
                "SELECT COUNT(*) AS UNIT FROM Customers\n",
                "SELECT Country, COUNT(Freight) AS UnitofFreight, AVG(Freight) AS MEAN, MIN(Freight) AS MIN FROM Orders GROUP BY Country"
            ],
            "metadata": {
                "azdata_cell_guid": "aa7feae9-e834-47ed-a9dd-ca721acd86c9",
                "language": "sql"
            },
            "outputs": [],
            "execution_count": null
        }
    ]
}